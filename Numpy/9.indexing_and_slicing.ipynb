{
 "cells": [
  {
   "cell_type": "code",
   "execution_count": 2,
   "id": "0aca8d78",
   "metadata": {},
   "outputs": [
    {
     "name": "stdout",
     "output_type": "stream",
     "text": [
      "7\n"
     ]
    }
   ],
   "source": [
    "import numpy as np\n",
    "arr = np.array([1,2,3,7,5,3,8,7])\n",
    "\n",
    "print(arr[3])"
   ]
  },
  {
   "cell_type": "markdown",
   "id": "b9efa2a7",
   "metadata": {},
   "source": [
    "# accecssing 2D array element"
   ]
  },
  {
   "cell_type": "code",
   "execution_count": 5,
   "id": "b82b95d4",
   "metadata": {},
   "outputs": [
    {
     "name": "stdout",
     "output_type": "stream",
     "text": [
      "3\n"
     ]
    }
   ],
   "source": [
    "import numpy as np\n",
    "arr = np.array([[1,2,3],[7,5,3]])\n",
    "\n",
    "print(arr[0,2])"
   ]
  },
  {
   "cell_type": "markdown",
   "id": "47d70405",
   "metadata": {},
   "source": [
    "# Accessing 3D array element"
   ]
  },
  {
   "cell_type": "code",
   "execution_count": 9,
   "id": "14aa52a4",
   "metadata": {},
   "outputs": [
    {
     "name": "stdout",
     "output_type": "stream",
     "text": [
      "[[[1 2]\n",
      "  [3 7]]\n",
      "\n",
      " [[5 3]\n",
      "  [4 2]]]\n",
      "4\n"
     ]
    }
   ],
   "source": [
    "import numpy as np\n",
    "arr = np.array([1,2,3,7,5,3,4,2])\n",
    "\n",
    "ThreeD_array = arr.reshape(2,2,2)\n",
    "print(ThreeD_array)\n",
    "\n",
    "print(ThreeD_array[1,1,0])"
   ]
  },
  {
   "cell_type": "markdown",
   "id": "4014d8c6",
   "metadata": {},
   "source": [
    "# Slicing"
   ]
  },
  {
   "cell_type": "code",
   "execution_count": 12,
   "id": "03f6c861",
   "metadata": {},
   "outputs": [
    {
     "name": "stdout",
     "output_type": "stream",
     "text": [
      "1 to 4: [1 2 3 7 5 3 4]\n",
      "2 to 3: [2 3 7 5 3]\n",
      "2 to 4 with step 2: [2 7 3]\n"
     ]
    }
   ],
   "source": [
    "import numpy as np\n",
    "arr = np.array([1,2,3,7,5,3,4,2])\n",
    "\n",
    "print(\"1 to 4:\", arr[:7])\n",
    "print(\"2 to 3:\", arr[1:6])\n",
    "print(\"2 to 4 with step 2:\", arr[1:6:2])"
   ]
  }
 ],
 "metadata": {
  "kernelspec": {
   "display_name": "Python 3 (ipykernel)",
   "language": "python",
   "name": "python3"
  },
  "language_info": {
   "codemirror_mode": {
    "name": "ipython",
    "version": 3
   },
   "file_extension": ".py",
   "mimetype": "text/x-python",
   "name": "python",
   "nbconvert_exporter": "python",
   "pygments_lexer": "ipython3",
   "version": "3.11.5"
  }
 },
 "nbformat": 4,
 "nbformat_minor": 5
}
