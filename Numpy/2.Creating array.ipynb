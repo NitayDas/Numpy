{
 "cells": [
  {
   "cell_type": "markdown",
   "id": "32f13c7c",
   "metadata": {},
   "source": [
    "## Zero_Array"
   ]
  },
  {
   "cell_type": "code",
   "execution_count": 1,
   "id": "43ca6a83",
   "metadata": {},
   "outputs": [
    {
     "data": {
      "text/plain": [
       "array([0., 0., 0., 0., 0.])"
      ]
     },
     "execution_count": 1,
     "metadata": {},
     "output_type": "execute_result"
    }
   ],
   "source": [
    "import numpy as np\n",
    "zeroArray=np.zeros(5)\n",
    "zeroArray"
   ]
  },
  {
   "cell_type": "markdown",
   "id": "f7b94a6d",
   "metadata": {},
   "source": [
    "## one_Array"
   ]
  },
  {
   "cell_type": "code",
   "execution_count": 2,
   "id": "f68042d3",
   "metadata": {},
   "outputs": [
    {
     "data": {
      "text/plain": [
       "array([[1., 1., 1.],\n",
       "       [1., 1., 1.],\n",
       "       [1., 1., 1.],\n",
       "       [1., 1., 1.]])"
      ]
     },
     "execution_count": 2,
     "metadata": {},
     "output_type": "execute_result"
    }
   ],
   "source": [
    "import numpy as np\n",
    "oneArray = np.ones([4,3])\n",
    "oneArray"
   ]
  },
  {
   "cell_type": "markdown",
   "id": "cb96a82c",
   "metadata": {},
   "source": [
    "## Eye Array"
   ]
  },
  {
   "cell_type": "code",
   "execution_count": 3,
   "id": "1baa7185",
   "metadata": {},
   "outputs": [
    {
     "data": {
      "text/plain": [
       "array([[1., 0., 0., 0.],\n",
       "       [0., 1., 0., 0.],\n",
       "       [0., 0., 1., 0.],\n",
       "       [0., 0., 0., 1.]])"
      ]
     },
     "execution_count": 3,
     "metadata": {},
     "output_type": "execute_result"
    }
   ],
   "source": [
    "import numpy as np\n",
    "arr = np.eye(4)\n",
    "arr"
   ]
  },
  {
   "cell_type": "markdown",
   "id": "cd5dc927",
   "metadata": {},
   "source": [
    "## set_diagonal element using diag function"
   ]
  },
  {
   "cell_type": "code",
   "execution_count": 8,
   "id": "d9ab2cd5",
   "metadata": {},
   "outputs": [
    {
     "name": "stdout",
     "output_type": "stream",
     "text": [
      "[3 6 7]\n",
      "\n",
      "\n",
      "[[3 0 0]\n",
      " [0 6 0]\n",
      " [0 0 7]]\n"
     ]
    }
   ],
   "source": [
    "import numpy as np\n",
    "arr2= np.diag([3,6,7])\n",
    "print(np.diag(arr2))\n",
    "print(\"\\n\")\n",
    "print(arr2)"
   ]
  },
  {
   "cell_type": "markdown",
   "id": "961233e7",
   "metadata": {},
   "source": [
    "## random number generate with max,min,and total values"
   ]
  },
  {
   "cell_type": "code",
   "execution_count": 38,
   "id": "3684928c",
   "metadata": {},
   "outputs": [
    {
     "data": {
      "text/plain": [
       "array([6, 4, 7, 8, 8, 8])"
      ]
     },
     "execution_count": 38,
     "metadata": {},
     "output_type": "execute_result"
    }
   ],
   "source": [
    "import numpy as np\n",
    "arr = np.random.randint(3,9,6)\n",
    "arr"
   ]
  },
  {
   "cell_type": "markdown",
   "id": "f3c4b7af",
   "metadata": {},
   "source": [
    "## random number generate between 0 and 1"
   ]
  },
  {
   "cell_type": "code",
   "execution_count": 36,
   "id": "b7b0136b",
   "metadata": {},
   "outputs": [
    {
     "data": {
      "text/plain": [
       "array([[0.4543757 , 0.89930504, 0.38307286],\n",
       "       [0.9099233 , 0.9006465 , 0.00388887]])"
      ]
     },
     "execution_count": 36,
     "metadata": {},
     "output_type": "execute_result"
    }
   ],
   "source": [
    "import numpy as np\n",
    "arr = np.random.rand(2,3)\n",
    "arr"
   ]
  },
  {
   "cell_type": "markdown",
   "id": "49bdbf6b",
   "metadata": {},
   "source": [
    "## randn()\n",
    "## used to generate value that are close to zero(negative and positive)"
   ]
  },
  {
   "cell_type": "code",
   "execution_count": null,
   "id": "61b554fc",
   "metadata": {},
   "outputs": [],
   "source": []
  },
  {
   "cell_type": "code",
   "execution_count": 10,
   "id": "19135797",
   "metadata": {},
   "outputs": [
    {
     "data": {
      "text/plain": [
       "array([-0.85615445, -1.22904237, -0.26319282])"
      ]
     },
     "execution_count": 10,
     "metadata": {},
     "output_type": "execute_result"
    }
   ],
   "source": [
    "import numpy as np\n",
    "arr = np.random.randn(3)\n",
    "arr"
   ]
  },
  {
   "cell_type": "markdown",
   "id": "a62e2af1",
   "metadata": {},
   "source": [
    "## ranf()\n",
    "## generate random values with intervals [0.0,1.0)"
   ]
  },
  {
   "cell_type": "code",
   "execution_count": 14,
   "id": "71424784",
   "metadata": {},
   "outputs": [
    {
     "data": {
      "text/plain": [
       "array([0.09531466, 0.83000438, 0.19096784, 0.39583477, 0.36993068,\n",
       "       0.56656916, 0.7254482 , 0.47838994, 0.93887866, 0.78925866])"
      ]
     },
     "execution_count": 14,
     "metadata": {},
     "output_type": "execute_result"
    }
   ],
   "source": [
    "import numpy as np\n",
    "arr = np.random.ranf(10)\n",
    "arr"
   ]
  },
  {
   "cell_type": "markdown",
   "id": "caf26c3a",
   "metadata": {},
   "source": [
    "## Range function"
   ]
  },
  {
   "cell_type": "code",
   "execution_count": 12,
   "id": "c146775d",
   "metadata": {},
   "outputs": [
    {
     "data": {
      "text/plain": [
       "array([2, 3, 4])"
      ]
     },
     "execution_count": 12,
     "metadata": {},
     "output_type": "execute_result"
    }
   ],
   "source": [
    "import numpy as np\n",
    "arr = np.arange(2,5)\n",
    "arr"
   ]
  }
 ],
 "metadata": {
  "kernelspec": {
   "display_name": "Python 3 (ipykernel)",
   "language": "python",
   "name": "python3"
  },
  "language_info": {
   "codemirror_mode": {
    "name": "ipython",
    "version": 3
   },
   "file_extension": ".py",
   "mimetype": "text/x-python",
   "name": "python",
   "nbconvert_exporter": "python",
   "pygments_lexer": "ipython3",
   "version": "3.11.5"
  }
 },
 "nbformat": 4,
 "nbformat_minor": 5
}
