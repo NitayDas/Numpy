{
 "cells": [
  {
   "cell_type": "code",
   "execution_count": 2,
   "id": "d7770962",
   "metadata": {},
   "outputs": [
    {
     "name": "stdout",
     "output_type": "stream",
     "text": [
      "[4 5 6 7]\n"
     ]
    }
   ],
   "source": [
    "import numpy as np\n",
    "arr = np.array([1,2,3,4])\n",
    "\n",
    "new_array = np.add(arr,3)\n",
    "print(new_array)"
   ]
  },
  {
   "cell_type": "code",
   "execution_count": 4,
   "id": "b67c6000",
   "metadata": {},
   "outputs": [
    {
     "name": "stdout",
     "output_type": "stream",
     "text": [
      "[5 5 5 5]\n"
     ]
    }
   ],
   "source": [
    "import numpy as np\n",
    "arr = np.array([1,2,3,4])\n",
    "arr2 = np.array([4,3,2,1])\n",
    "\n",
    "new_array = np.add(arr,arr2)\n",
    "print(new_array)"
   ]
  },
  {
   "cell_type": "code",
   "execution_count": 7,
   "id": "53fba603",
   "metadata": {},
   "outputs": [
    {
     "name": "stdout",
     "output_type": "stream",
     "text": [
      "[-3 -1  1  3]\n"
     ]
    }
   ],
   "source": [
    "import numpy as np\n",
    "arr = np.array([1,2,3,4])\n",
    "arr2 = np.array([4,3,2,1])\n",
    "\n",
    "new_array = np.subtract(arr,arr2)\n",
    "print(new_array)"
   ]
  },
  {
   "cell_type": "code",
   "execution_count": 9,
   "id": "abaf1977",
   "metadata": {},
   "outputs": [
    {
     "name": "stdout",
     "output_type": "stream",
     "text": [
      "[4 6 6 4]\n"
     ]
    }
   ],
   "source": [
    "import numpy as np\n",
    "arr = np.array([1,2,3,4])\n",
    "arr2 = np.array([4,3,2,1])\n",
    "\n",
    "new_array = np.multiply(arr,arr2)\n",
    "print(new_array)"
   ]
  },
  {
   "cell_type": "code",
   "execution_count": 11,
   "id": "e028f486",
   "metadata": {},
   "outputs": [
    {
     "name": "stdout",
     "output_type": "stream",
     "text": [
      "[0.25       0.66666667 1.5        4.        ]\n"
     ]
    }
   ],
   "source": [
    "import numpy as np\n",
    "arr = np.array([1,2,3,4])\n",
    "arr2 = np.array([4,3,2,1])\n",
    "\n",
    "new_array = np.divide(arr,arr2)\n",
    "print(new_array)"
   ]
  },
  {
   "cell_type": "code",
   "execution_count": 12,
   "id": "131617de",
   "metadata": {},
   "outputs": [
    {
     "name": "stdout",
     "output_type": "stream",
     "text": [
      "[5 5 5 5]\n"
     ]
    }
   ],
   "source": [
    "import numpy as np\n",
    "arr = np.array([1,2,3,4])\n",
    "arr2 = np.array([4,3,2,1])\n",
    "\n",
    "new_array = np.add(arr,arr2)\n",
    "print(new_array)"
   ]
  },
  {
   "cell_type": "markdown",
   "id": "01d4bc7e",
   "metadata": {},
   "source": [
    "## 2D arrray arithmetic operation"
   ]
  },
  {
   "cell_type": "code",
   "execution_count": 14,
   "id": "05494dfe",
   "metadata": {},
   "outputs": [
    {
     "name": "stdout",
     "output_type": "stream",
     "text": [
      "[[1 2 3 4]\n",
      " [5 6 7 8]]\n",
      "\n",
      "[[1 2 3 4]\n",
      " [5 6 7 8]]\n",
      "\n",
      "[[ 2  4  6  8]\n",
      " [10 12 14 16]]\n"
     ]
    }
   ],
   "source": [
    "import numpy as np\n",
    "arr = np.array([[1,2,3,4],[5,6,7,8]])\n",
    "arr2 = np.array([[1,2,3,4],[5,6,7,8]])\n",
    "\n",
    "print(arr)\n",
    "print()\n",
    "print(arr2)\n",
    "print()\n",
    "\n",
    "new_array = np.add(arr,arr2)\n",
    "print(new_array)"
   ]
  },
  {
   "cell_type": "code",
   "execution_count": 16,
   "id": "39b71723",
   "metadata": {},
   "outputs": [
    {
     "name": "stdout",
     "output_type": "stream",
     "text": [
      "2\n"
     ]
    }
   ],
   "source": [
    "import numpy as np\n",
    "var = np.mod(5,3)\n",
    "\n",
    "print(var)"
   ]
  },
  {
   "cell_type": "markdown",
   "id": "c7d8b5aa",
   "metadata": {},
   "source": [
    "## reciprocal(1/a)"
   ]
  },
  {
   "cell_type": "code",
   "execution_count": 18,
   "id": "d6f70250",
   "metadata": {},
   "outputs": [
    {
     "name": "stdout",
     "output_type": "stream",
     "text": [
      "[1 0 0 0]\n"
     ]
    }
   ],
   "source": [
    "import numpy as np\n",
    "arr = np.array([1,2,3,4])\n",
    "\n",
    "new_array = np.reciprocal(arr)\n",
    "\n",
    "print(new_array)"
   ]
  }
 ],
 "metadata": {
  "kernelspec": {
   "display_name": "Python 3 (ipykernel)",
   "language": "python",
   "name": "python3"
  },
  "language_info": {
   "codemirror_mode": {
    "name": "ipython",
    "version": 3
   },
   "file_extension": ".py",
   "mimetype": "text/x-python",
   "name": "python",
   "nbconvert_exporter": "python",
   "pygments_lexer": "ipython3",
   "version": "3.11.5"
  }
 },
 "nbformat": 4,
 "nbformat_minor": 5
}
