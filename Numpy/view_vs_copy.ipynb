{
 "cells": [
  {
   "cell_type": "code",
   "execution_count": 4,
   "id": "40897cc4",
   "metadata": {},
   "outputs": [
    {
     "name": "stdout",
     "output_type": "stream",
     "text": [
      "[10 20 30 40]\n",
      "\n",
      "[10 20 30 51]\n"
     ]
    }
   ],
   "source": [
    "import numpy as np\n",
    "\n",
    "arr = np.array([10,20,30,40])\n",
    "\n",
    "copy = arr.copy()\n",
    "\n",
    "copy[3]=51\n",
    "\n",
    "print(arr)\n",
    "print()\n",
    "print(copy)"
   ]
  },
  {
   "cell_type": "code",
   "execution_count": 5,
   "id": "3ab3c7dd",
   "metadata": {},
   "outputs": [
    {
     "name": "stdout",
     "output_type": "stream",
     "text": [
      "[10 20 30 51]\n",
      "\n",
      "[10 20 30 51]\n"
     ]
    }
   ],
   "source": [
    "import numpy as np\n",
    "\n",
    "arr = np.array([10,20,30,40])\n",
    "\n",
    "view = arr.view()\n",
    "\n",
    "view[3]=51\n",
    "\n",
    "print(arr)\n",
    "print()\n",
    "print(copy)"
   ]
  }
 ],
 "metadata": {
  "kernelspec": {
   "display_name": "Python 3 (ipykernel)",
   "language": "python",
   "name": "python3"
  },
  "language_info": {
   "codemirror_mode": {
    "name": "ipython",
    "version": 3
   },
   "file_extension": ".py",
   "mimetype": "text/x-python",
   "name": "python",
   "nbconvert_exporter": "python",
   "pygments_lexer": "ipython3",
   "version": "3.11.5"
  }
 },
 "nbformat": 4,
 "nbformat_minor": 5
}
