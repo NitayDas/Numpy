{
 "cells": [
  {
   "cell_type": "code",
   "execution_count": 7,
   "id": "acdaa760",
   "metadata": {},
   "outputs": [
    {
     "name": "stdout",
     "output_type": "stream",
     "text": [
      "[[1 2 3 4]\n",
      " [7 5 3 8]]\n",
      "\n",
      "(2, 4)\n",
      "\n",
      "2\n",
      "\n",
      "\n",
      "[[[[1 2 3 4]\n",
      "   [7 5 3 8]]]]\n",
      "\n",
      "(1, 1, 2, 4)\n",
      "\n",
      "4\n"
     ]
    }
   ],
   "source": [
    "import numpy as np\n",
    "arr = np.array([[1,2,3,4],[7,5,3,8]])\n",
    "\n",
    "new_array = np.array(arr,ndmin=4)\n",
    "\n",
    "print(arr)\n",
    "print()\n",
    "print(arr.shape)\n",
    "print()\n",
    "print(arr.ndim)\n",
    "\n",
    "print()\n",
    "print()\n",
    "\n",
    "print(new_array)\n",
    "print()\n",
    "print(new_array.shape)\n",
    "print()\n",
    "print(new_array.ndim)"
   ]
  },
  {
   "cell_type": "markdown",
   "id": "503ec8fe",
   "metadata": {},
   "source": [
    "# reshape"
   ]
  },
  {
   "cell_type": "code",
   "execution_count": 18,
   "id": "7cf780ad",
   "metadata": {},
   "outputs": [
    {
     "name": "stdout",
     "output_type": "stream",
     "text": [
      "[[1 2]\n",
      " [3 7]\n",
      " [5 3]\n",
      " [8 7]]\n",
      "\n",
      "2\n"
     ]
    }
   ],
   "source": [
    "import numpy as np\n",
    "arr = np.array([1,2,3,7,5,3,8,7])\n",
    "\n",
    "reshape_array= arr.reshape(4,2)\n",
    "print(reshape_array)\n",
    "print()\n",
    "print(reshape_array.ndim)\n"
   ]
  },
  {
   "cell_type": "markdown",
   "id": "f9e5e95a",
   "metadata": {},
   "source": [
    "# 1D to 3D"
   ]
  },
  {
   "cell_type": "code",
   "execution_count": 21,
   "id": "c4ff7991",
   "metadata": {},
   "outputs": [
    {
     "name": "stdout",
     "output_type": "stream",
     "text": [
      "[[[ 1  2]\n",
      "  [ 3  7]\n",
      "  [ 5  3]]\n",
      "\n",
      " [[ 8  7]\n",
      "  [ 9 10]\n",
      "  [11 12]]]\n",
      "\n",
      "3\n",
      "\n",
      "[ 1  2  3  7  5  3  8  7  9 10 11 12]\n",
      "1\n"
     ]
    }
   ],
   "source": [
    "import numpy as np\n",
    "arr = np.array([1,2,3,7,5,3,8,7,9,10,11,12])\n",
    "\n",
    "reshape_array= arr.reshape(2,3,2)\n",
    "print(reshape_array)\n",
    "print()\n",
    "print(reshape_array.ndim)\n",
    "\n",
    "# again converting 1D\n",
    "\n",
    "one = reshape_array.reshape(-1)\n",
    "print()\n",
    "print(one)\n",
    "print(one.ndim)\n"
   ]
  }
 ],
 "metadata": {
  "kernelspec": {
   "display_name": "Python 3 (ipykernel)",
   "language": "python",
   "name": "python3"
  },
  "language_info": {
   "codemirror_mode": {
    "name": "ipython",
    "version": 3
   },
   "file_extension": ".py",
   "mimetype": "text/x-python",
   "name": "python",
   "nbconvert_exporter": "python",
   "pygments_lexer": "ipython3",
   "version": "3.11.5"
  }
 },
 "nbformat": 4,
 "nbformat_minor": 5
}
