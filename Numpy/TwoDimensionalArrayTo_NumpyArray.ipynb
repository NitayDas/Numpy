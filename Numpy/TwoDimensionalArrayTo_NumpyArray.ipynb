{
 "cells": [
  {
   "cell_type": "code",
   "execution_count": 14,
   "id": "fc819a4c",
   "metadata": {},
   "outputs": [
    {
     "name": "stdout",
     "output_type": "stream",
     "text": [
      "Total Dimension: 2\n",
      "Shape of the array: (3, 3)\n"
     ]
    }
   ],
   "source": [
    "import numpy as np\n",
    "# n = int(input(\"Enter the size of n: \"))\n",
    "# m = int(input(\"Enter the size of m: \"))\n",
    "A=[[1,2,3],[4,5,6],[7,8,9]]\n",
    "\n",
    "\n",
    "# for i  in range(n):\n",
    "#     temp=[]\n",
    "#     for j in range(m):\n",
    "#         val=int(input(\"Enter array number:\"))\n",
    "#         temp.append(val)\n",
    "        \n",
    "#     A[i].append(temp)\n",
    "        \n",
    "\n",
    "npArray = np.array(A)\n",
    "npArray\n",
    "\n",
    "print(\"Total Dimension:\",npArray.ndim)\n",
    "print(\"Shape of the array:\",npArray.shape)"
   ]
  }
 ],
 "metadata": {
  "kernelspec": {
   "display_name": "Python 3 (ipykernel)",
   "language": "python",
   "name": "python3"
  },
  "language_info": {
   "codemirror_mode": {
    "name": "ipython",
    "version": 3
   },
   "file_extension": ".py",
   "mimetype": "text/x-python",
   "name": "python",
   "nbconvert_exporter": "python",
   "pygments_lexer": "ipython3",
   "version": "3.11.5"
  }
 },
 "nbformat": 4,
 "nbformat_minor": 5
}
