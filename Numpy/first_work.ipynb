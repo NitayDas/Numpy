{
 "cells": [
  {
   "cell_type": "code",
   "execution_count": 18,
   "id": "b814ea9d",
   "metadata": {},
   "outputs": [
    {
     "name": "stdout",
     "output_type": "stream",
     "text": [
      "Enter the size of the array: 5\n",
      "Enter number: 12\n",
      "Enter number: 23\n",
      "Enter number: 34\n",
      "Enter number: 45\n",
      "Enter number: 56\n"
     ]
    },
    {
     "data": {
      "text/plain": [
       "array([12, 23, 34, 45, 56])"
      ]
     },
     "execution_count": 18,
     "metadata": {},
     "output_type": "execute_result"
    }
   ],
   "source": [
    "import numpy as np\n",
    "A = []\n",
    "\n",
    "n=int(input(\"Enter the size of the array: \"))\n",
    "\n",
    "for i in range(n):\n",
    "    x=int(input(\"Enter number: \"))\n",
    "    A.append(x)\n",
    "    \n",
    "npArray= np.array(A)\n",
    "npArray"
   ]
  },
  {
   "cell_type": "code",
   "execution_count": null,
   "id": "d90ebf7f",
   "metadata": {},
   "outputs": [],
   "source": []
  }
 ],
 "metadata": {
  "kernelspec": {
   "display_name": "Python 3 (ipykernel)",
   "language": "python",
   "name": "python3"
  },
  "language_info": {
   "codemirror_mode": {
    "name": "ipython",
    "version": 3
   },
   "file_extension": ".py",
   "mimetype": "text/x-python",
   "name": "python",
   "nbconvert_exporter": "python",
   "pygments_lexer": "ipython3",
   "version": "3.11.5"
  }
 },
 "nbformat": 4,
 "nbformat_minor": 5
}
