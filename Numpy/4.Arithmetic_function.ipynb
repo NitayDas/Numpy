{
 "cells": [
  {
   "cell_type": "code",
   "execution_count": 6,
   "id": "a6b8a202",
   "metadata": {},
   "outputs": [
    {
     "name": "stdout",
     "output_type": "stream",
     "text": [
      "max: 8  max_element_pos: 7\n",
      "min: 1  min element_pos:  0\n"
     ]
    }
   ],
   "source": [
    "import numpy as np\n",
    "arr = np.array([1,2,3,4,7,5,3,8])\n",
    "max_element = np.max(arr)\n",
    "min_element = np.min(arr)\n",
    "\n",
    "print(\"max:\",max_element,\" max_element_pos:\" , np.argmax(arr))\n",
    "print(\"min:\",min_element, \" min element_pos: \", np.argmin(arr))"
   ]
  },
  {
   "cell_type": "code",
   "execution_count": 10,
   "id": "68166f34",
   "metadata": {},
   "outputs": [
    {
     "name": "stdout",
     "output_type": "stream",
     "text": [
      "[7 5 3 8]\n",
      "[4 8]\n"
     ]
    }
   ],
   "source": [
    "import numpy as np\n",
    "arr = np.array([[1,2,3,4],[7,5,3,8]])\n",
    "\n",
    "ans1 = np.max(arr, axis=0)#column wise\n",
    "ans2 = np.max(arr, axis=1)#row wise\n",
    "print(ans1)\n",
    "print(ans2)"
   ]
  },
  {
   "cell_type": "code",
   "execution_count": 11,
   "id": "c192e2e3",
   "metadata": {},
   "outputs": [
    {
     "name": "stdout",
     "output_type": "stream",
     "text": [
      "[ 1  3  6 10 17 22 25 33]\n"
     ]
    }
   ],
   "source": [
    "import numpy as np\n",
    "arr = np.array([1,2,3,4,7,5,3,8])\n",
    "\n",
    "new_array = np.cumsum(arr)\n",
    "print(new_array)"
   ]
  }
 ],
 "metadata": {
  "kernelspec": {
   "display_name": "Python 3 (ipykernel)",
   "language": "python",
   "name": "python3"
  },
  "language_info": {
   "codemirror_mode": {
    "name": "ipython",
    "version": 3
   },
   "file_extension": ".py",
   "mimetype": "text/x-python",
   "name": "python",
   "nbconvert_exporter": "python",
   "pygments_lexer": "ipython3",
   "version": "3.11.5"
  }
 },
 "nbformat": 4,
 "nbformat_minor": 5
}
