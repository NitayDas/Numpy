{
 "cells": [
  {
   "cell_type": "markdown",
   "id": "adbbe901",
   "metadata": {},
   "source": [
    "# where"
   ]
  },
  {
   "cell_type": "code",
   "execution_count": 4,
   "id": "ea75775c",
   "metadata": {},
   "outputs": [
    {
     "name": "stdout",
     "output_type": "stream",
     "text": [
      "(array([ 8, 10], dtype=int64),)\n",
      "\n",
      "(array([2, 5, 9], dtype=int64),)\n"
     ]
    }
   ],
   "source": [
    "import numpy as np\n",
    "\n",
    "arr = np.array([1,2,3,8,8,9,5,2,4,6,4])\n",
    "\n",
    "ans = np.where(arr==4)\n",
    "\n",
    "rem_zero = np.where((arr%3) == 0)\n",
    "\n",
    "print(ans)\n",
    "print()\n",
    "print(rem_zero)"
   ]
  },
  {
   "cell_type": "markdown",
   "id": "c3bf67f4",
   "metadata": {},
   "source": [
    "# searchsorted"
   ]
  },
  {
   "cell_type": "code",
   "execution_count": 13,
   "id": "4bc594de",
   "metadata": {},
   "outputs": [
    {
     "name": "stdout",
     "output_type": "stream",
     "text": [
      "5\n",
      "\n",
      "[5 1 6]\n"
     ]
    }
   ],
   "source": [
    "import numpy as np\n",
    "\n",
    "arr = np.array([1,2,3,4,4,6,7,7,8,9])\n",
    "\n",
    "ans = np.searchsorted(arr, 5)\n",
    "group = np.searchsorted(arr, [5,2,7])\n",
    "\n",
    "\n",
    "print(ans)\n",
    "print()\n",
    "print(group)"
   ]
  },
  {
   "cell_type": "markdown",
   "id": "e278e623",
   "metadata": {},
   "source": [
    "# sort"
   ]
  },
  {
   "cell_type": "code",
   "execution_count": 15,
   "id": "4704dc66",
   "metadata": {},
   "outputs": [
    {
     "name": "stdout",
     "output_type": "stream",
     "text": [
      "[1 2 2 3 4 4 5 6 8 8 9]\n",
      "\n",
      "['a' 'k' 'l' 'm' 'v']\n"
     ]
    }
   ],
   "source": [
    "import numpy as np\n",
    "\n",
    "arr = np.array([1,2,3,8,8,9,5,2,4,6,4])\n",
    "arr2 = np.array(['a','v','m','l','k'])\n",
    "\n",
    "print(np.sort(arr))\n",
    "print()\n",
    "print(np.sort(arr2))"
   ]
  },
  {
   "cell_type": "markdown",
   "id": "970861d6",
   "metadata": {},
   "source": [
    "# Filter"
   ]
  },
  {
   "cell_type": "code",
   "execution_count": 17,
   "id": "161c9538",
   "metadata": {},
   "outputs": [
    {
     "name": "stdout",
     "output_type": "stream",
     "text": [
      "['a' 'm' 'l']\n"
     ]
    }
   ],
   "source": [
    "import numpy as np\n",
    "\n",
    "arr = np.array(['a','v','m','l','k'])\n",
    "\n",
    "f=[True,False,True,True,False]\n",
    "\n",
    "filtered_array = arr[f]\n",
    "\n",
    "print(filtered_array)"
   ]
  },
  {
   "cell_type": "markdown",
   "id": "20a8056a",
   "metadata": {},
   "source": [
    "# shuffle"
   ]
  },
  {
   "cell_type": "code",
   "execution_count": 20,
   "id": "3b94b718",
   "metadata": {},
   "outputs": [
    {
     "name": "stdout",
     "output_type": "stream",
     "text": [
      "[6 1 8 3 4 2]\n"
     ]
    }
   ],
   "source": [
    "import numpy as np\n",
    "arr = np.array([1,2,3,8,4,6])\n",
    "\n",
    "np.random.shuffle(arr)\n",
    "print(arr)\n",
    "\n"
   ]
  },
  {
   "cell_type": "markdown",
   "id": "022d3d66",
   "metadata": {},
   "source": [
    "# unique"
   ]
  },
  {
   "cell_type": "code",
   "execution_count": 22,
   "id": "fe031976",
   "metadata": {},
   "outputs": [
    {
     "name": "stdout",
     "output_type": "stream",
     "text": [
      "[1 2 3 4 5 6 8 9]\n"
     ]
    }
   ],
   "source": [
    "import numpy as np\n",
    "arr = np.array([1,2,3,8,8,9,5,2,4,6,4])\n",
    "\n",
    "new_arr= np.unique(arr)\n",
    "\n",
    "print(new_arr)"
   ]
  },
  {
   "cell_type": "markdown",
   "id": "15f1f071",
   "metadata": {},
   "source": [
    "# Resize"
   ]
  },
  {
   "cell_type": "code",
   "execution_count": 23,
   "id": "97b6a30d",
   "metadata": {},
   "outputs": [
    {
     "name": "stdout",
     "output_type": "stream",
     "text": [
      "[[1 2 3 8]\n",
      " [8 9 5 2]\n",
      " [4 6 4 3]]\n"
     ]
    }
   ],
   "source": [
    "import numpy as np\n",
    "arr = np.array([1,2,3,8,8,9,5,2,4,6,4,3])\n",
    "\n",
    "new_array = np.resize(arr, (3,4))\n",
    "print(new_array)"
   ]
  }
 ],
 "metadata": {
  "kernelspec": {
   "display_name": "Python 3 (ipykernel)",
   "language": "python",
   "name": "python3"
  },
  "language_info": {
   "codemirror_mode": {
    "name": "ipython",
    "version": 3
   },
   "file_extension": ".py",
   "mimetype": "text/x-python",
   "name": "python",
   "nbconvert_exporter": "python",
   "pygments_lexer": "ipython3",
   "version": "3.11.5"
  }
 },
 "nbformat": 4,
 "nbformat_minor": 5
}
